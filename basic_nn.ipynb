{
  "nbformat": 4,
  "nbformat_minor": 0,
  "metadata": {
    "colab": {
      "provenance": [],
      "authorship_tag": "ABX9TyPRgdFgW4AEjqGHWOBaQf9b",
      "include_colab_link": true
    },
    "kernelspec": {
      "name": "python3",
      "display_name": "Python 3"
    },
    "language_info": {
      "name": "python"
    }
  },
  "cells": [
    {
      "cell_type": "markdown",
      "metadata": {
        "id": "view-in-github",
        "colab_type": "text"
      },
      "source": [
        "<a href=\"https://colab.research.google.com/github/giridhar7632/Portfolio/blob/main/basic_nn.ipynb\" target=\"_parent\"><img src=\"https://colab.research.google.com/assets/colab-badge.svg\" alt=\"Open In Colab\"/></a>"
      ]
    },
    {
      "cell_type": "markdown",
      "source": [
        "## Development lifecycle\n",
        "- Task\n",
        "- Data\n",
        "- Modeling\n",
        "- Error measurement\n",
        "- Training and optimization\n",
        "- Performance measurement\n",
        "- Validating and testing\n",
        "- Corrective measures"
      ],
      "metadata": {
        "id": "1pKyE2_UdV-M"
      }
    },
    {
      "cell_type": "code",
      "source": [],
      "metadata": {
        "id": "KAi2KXf-dXn2"
      },
      "execution_count": null,
      "outputs": []
    }
  ]
}